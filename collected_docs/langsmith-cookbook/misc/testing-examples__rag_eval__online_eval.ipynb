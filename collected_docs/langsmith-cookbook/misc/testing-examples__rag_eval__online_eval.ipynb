{
 "cells": [
  {
   "cell_type": "markdown",
   "id": "677411e0-33bc-4f3f-a460-a0fdf7af0cca",
   "metadata": {},
   "source": [
    "## Online evaluation\n",
    "\n",
    "Example for showcasing online evaluation with RAG (configured via the UI):\n",
    "\n",
    "https://docs.smith.langchain.com/how_to_guides/monitoring/online_evaluations\n",
    "\n",
    "Video:\n",
    "\n",
    "https://youtu.be/O0x6AcImDpM?feature=shared"
   ]
  },
  {
   "cell_type": "code",
   "execution_count": null,
   "id": "0346a8d7-25c2-4c1d-8f1f-e213dc3701be",
   "metadata": {},
   "outputs": [],
   "source": [
    "_set_env(\"OPENAI_API_KEY\")\n",
    "os.environ[\"LANGCHAIN_TRACING_V2\"] = \"true\"\n",
    "os.environ[\"LANGCHAIN_ENDPOINT\"] = \"https://api.smith.langchain.com\"\n",
    "_set_env(\"LANGCHAIN_API_KEY\")"
   ]
  },
  {
   "cell_type": "code",
   "execution_count": null,
   "id": "4d0a886b-9051-43fe-a376-a351390f4e54",
   "metadata": {},
   "outputs": [],
   "source": [
    "# Project\n",
    "import os\n",
    "os.environ[\"LANGCHAIN_PROJECT\"] = \"RAG_online_evaluation_demo\""
   ]
  },
  {
   "cell_type": "code",
   "execution_count": 1,
   "id": "1d7dd906-cf52-4307-a672-19619708ee25",
   "metadata": {},
   "outputs": [
    {
     "name": "stdout",
     "output_type": "stream",
     "text": [
      "Log - Question: What is the capital of France?, Documents: ['Paris is the capital and most populous city of France.'], Answer: The capital of France is Paris.\n"
     ]
    }
   ],
   "source": [
    "import openai\n",
    "from langsmith import traceable\n",
    "\n",
    "client = openai.Client()\n",
    "\n",
    "@traceable(name=\"log\")\n",
    "def log(question: str, \n",
    "        documents: list,\n",
    "        answer: str):\n",
    "    print(f'Log - Question: {question}, Documents: {documents}, Answer: {answer}')\n",
    "\n",
    "def invoke(question: str, documents: list):\n",
    "    return (\n",
    "        client.chat.completions.create(\n",
    "            model=\"gpt-3.5-turbo\",\n",
    "            temperature=0,\n",
    "            messages=[\n",
    "                {\n",
    "                    \"role\": \"system\",\n",
    "                    \"content\": f\"Answer questions based on these documents: {documents}\",\n",
    "                },\n",
    "                {\"role\": \"user\", \"content\": question},\n",
    "            ],\n",
    "        )\n",
    "        .choices[0]\n",
    "        .message.content\n",
    "    )\n",
    "\n",
    "question = \"What is the capital of France?\"\n",
    "docs = [\"Paris is the capital and most populous city of France.\"]\n",
    "answer = invoke(question,docs)\n",
    "log(question,docs,answer)"
   ]
  },
  {
   "cell_type": "code",
   "execution_count": 2,
   "id": "3df44f1c-d861-4a12-ace6-6aa5c88c6563",
   "metadata": {},
   "outputs": [
    {
     "name": "stdout",
     "output_type": "stream",
     "text": [
      "Log - Question: What is the capital of France?, Documents: ['Budapest is the capital and most populous city of Hungary.'], Answer: The capital of France is Paris.\n"
     ]
    }
   ],
   "source": [
    "question = \"What is the capital of France?\"\n",
    "docs = [\"Budapest is the capital and most populous city of Hungary.\"]\n",
    "answer = invoke(question,docs)\n",
    "log(question,docs,answer)"
   ]
  }
 ],
 "metadata": {
  "kernelspec": {
   "display_name": "Python 3 (ipykernel)",
   "language": "python",
   "name": "python3"
  },
  "language_info": {
   "codemirror_mode": {
    "name": "ipython",
    "version": 3
   },
   "file_extension": ".py",
   "mimetype": "text/x-python",
   "name": "python",
   "nbconvert_exporter": "python",
   "pygments_lexer": "ipython3",
   "version": "3.11.8"
  }
 },
 "nbformat": 4,
 "nbformat_minor": 5
}
